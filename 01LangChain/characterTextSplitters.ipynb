{
 "cells": [
  {
   "cell_type": "markdown",
   "id": "6ec81f94",
   "metadata": {},
   "source": [
    "#### How to split by character-Character Text Splitter\n",
    "This is the simplest method. This splits based on a given character sequence, which defaults to \"\\n\\n\". Chunk length is measured by number of characters.\n",
    "\n",
    "1. How the text is split: by single character separator.\n",
    "2. How the chunk size is measured: by number of characters."
   ]
  },
  {
   "cell_type": "code",
   "execution_count": 1,
   "id": "5a407869",
   "metadata": {},
   "outputs": [],
   "source": [
    "import langchain_community.document_loaders as Doc_loders"
   ]
  },
  {
   "cell_type": "code",
   "execution_count": 2,
   "id": "5c2e0073",
   "metadata": {},
   "outputs": [
    {
     "name": "stdout",
     "output_type": "stream",
     "text": [
      "[Document(metadata={'source': 'text.txt'}, page_content='Lorem ipsum dolor sit amet consectetur adipisicing elit. Fugiat corporis cumque deleniti, saepe hic temporibus perferendis ipsum quibusdam voluptatibus eos beatae est odit optio sunt deserunt molestiae neque suscipit sed nostrum incidunt numquam consequatur eum! Nemo nisi laborum praesentium asperiores, placeat quibusdam sapiente non quam veniam voluptatibus velit recusandae minima magnam sequi vel delectus et molestias officia doloribus aperiam similique? Consequuntur, omnis dolorem perspiciatis aspernatur voluptate eos? Quos fuga perferendis ab ipsam officia dignissimos, ratione, odio laboriosam labore ut hic eius similique quasi aut cumque id. Cumque incidunt magni quibusdam inventore error necessitatibus aperiam vero laudantium? Officiis esse vero quod?\\n\\nLorem, ipsum dolor sit amet consectetur adipisicing elit. Iure cumque tempore aperiam ab, reiciendis incidunt. Error temporibus minus nisi consequatur nihil eum non animi aperiam nam eligendi totam quo quisquam optio eos earum, laborum quas enim neque. Praesentium, vel amet. Aliquid dicta ab error consequatur officia fugit nulla facere laborum tenetur repellendus non repellat qui labore consectetur, velit amet? Atque, itaque commodi aliquam temporibus quod voluptatum voluptate debitis architecto velit illo. Repudiandae harum fuga cum, ex minus hic tempore aspernatur ut exercitationem maxime, qui vel neque vero. Vitae cum adipisci possimus sunt iste libero, culpa omnis impedit. Mollitia, modi rem.\\n\\nLorem ipsum dolor sit, amet consectetur adipisicing elit. Voluptate eaque beatae architecto officiis esse aperiam repellat quo veniam consectetur quisquam id odio, quae molestiae. Consequuntur animi cumque ipsa tempore pariatur aspernatur libero reprehenderit ipsam tenetur reiciendis. Eius velit possimus id esse fugiat rerum suscipit dolores voluptas ipsa, quasi rem repudiandae!')]\n"
     ]
    }
   ],
   "source": [
    "text_loder=Doc_loders.TextLoader(\"text.txt\")\n",
    "docs=text_loder.load()\n",
    "print(docs)"
   ]
  },
  {
   "cell_type": "code",
   "execution_count": 3,
   "id": "f7edaadf",
   "metadata": {},
   "outputs": [],
   "source": [
    "from langchain_text_splitters import CharacterTextSplitter\n",
    "splitters=CharacterTextSplitter(\n",
    "\tseparator=\"\\n\", chunk_size=100,chunk_overlap=10\n",
    ")"
   ]
  },
  {
   "cell_type": "code",
   "execution_count": 4,
   "id": "bc1ef66f",
   "metadata": {},
   "outputs": [
    {
     "name": "stderr",
     "output_type": "stream",
     "text": [
      "Created a chunk of size 767, which is longer than the specified 100\n",
      "Created a chunk of size 705, which is longer than the specified 100\n"
     ]
    },
    {
     "data": {
      "text/plain": [
       "[Document(metadata={'source': 'text.txt'}, page_content='Lorem ipsum dolor sit amet consectetur adipisicing elit. Fugiat corporis cumque deleniti, saepe hic temporibus perferendis ipsum quibusdam voluptatibus eos beatae est odit optio sunt deserunt molestiae neque suscipit sed nostrum incidunt numquam consequatur eum! Nemo nisi laborum praesentium asperiores, placeat quibusdam sapiente non quam veniam voluptatibus velit recusandae minima magnam sequi vel delectus et molestias officia doloribus aperiam similique? Consequuntur, omnis dolorem perspiciatis aspernatur voluptate eos? Quos fuga perferendis ab ipsam officia dignissimos, ratione, odio laboriosam labore ut hic eius similique quasi aut cumque id. Cumque incidunt magni quibusdam inventore error necessitatibus aperiam vero laudantium? Officiis esse vero quod?'),\n",
       " Document(metadata={'source': 'text.txt'}, page_content='Lorem, ipsum dolor sit amet consectetur adipisicing elit. Iure cumque tempore aperiam ab, reiciendis incidunt. Error temporibus minus nisi consequatur nihil eum non animi aperiam nam eligendi totam quo quisquam optio eos earum, laborum quas enim neque. Praesentium, vel amet. Aliquid dicta ab error consequatur officia fugit nulla facere laborum tenetur repellendus non repellat qui labore consectetur, velit amet? Atque, itaque commodi aliquam temporibus quod voluptatum voluptate debitis architecto velit illo. Repudiandae harum fuga cum, ex minus hic tempore aspernatur ut exercitationem maxime, qui vel neque vero. Vitae cum adipisci possimus sunt iste libero, culpa omnis impedit. Mollitia, modi rem.'),\n",
       " Document(metadata={'source': 'text.txt'}, page_content='Lorem ipsum dolor sit, amet consectetur adipisicing elit. Voluptate eaque beatae architecto officiis esse aperiam repellat quo veniam consectetur quisquam id odio, quae molestiae. Consequuntur animi cumque ipsa tempore pariatur aspernatur libero reprehenderit ipsam tenetur reiciendis. Eius velit possimus id esse fugiat rerum suscipit dolores voluptas ipsa, quasi rem repudiandae!')]"
      ]
     },
     "execution_count": 4,
     "metadata": {},
     "output_type": "execute_result"
    }
   ],
   "source": [
    "splitters.split_documents(docs)"
   ]
  },
  {
   "cell_type": "code",
   "execution_count": null,
   "id": "c89aa967",
   "metadata": {},
   "outputs": [],
   "source": []
  },
  {
   "cell_type": "code",
   "execution_count": null,
   "id": "68d955ec",
   "metadata": {},
   "outputs": [],
   "source": []
  }
 ],
 "metadata": {
  "kernelspec": {
   "display_name": "Python 3",
   "language": "python",
   "name": "python3"
  },
  "language_info": {
   "codemirror_mode": {
    "name": "ipython",
    "version": 3
   },
   "file_extension": ".py",
   "mimetype": "text/x-python",
   "name": "python",
   "nbconvert_exporter": "python",
   "pygments_lexer": "ipython3",
   "version": "3.10.0"
  }
 },
 "nbformat": 4,
 "nbformat_minor": 5
}
