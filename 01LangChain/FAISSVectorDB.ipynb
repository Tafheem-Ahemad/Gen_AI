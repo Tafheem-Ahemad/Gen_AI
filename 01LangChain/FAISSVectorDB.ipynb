{
 "cells": [
  {
   "cell_type": "markdown",
   "id": "47fcf1d4",
   "metadata": {},
   "source": []
  },
  {
   "cell_type": "code",
   "execution_count": 3,
   "id": "ca1e187d",
   "metadata": {},
   "outputs": [],
   "source": [
    "from langchain_community.document_loaders import TextLoader\n",
    "from langchain_text_splitters import RecursiveCharacterTextSplitter\n",
    "\n",
    "loader=TextLoader('speech.txt')\n",
    "docs=loader.load()"
   ]
  },
  {
   "cell_type": "code",
   "execution_count": 6,
   "id": "b53f955f",
   "metadata": {},
   "outputs": [],
   "source": [
    "spiltters=RecursiveCharacterTextSplitter(chunk_size=100,chunk_overlap=10)\n",
    "final_docs=spiltters.split_documents(docs)"
   ]
  },
  {
   "cell_type": "code",
   "execution_count": 12,
   "id": "c27d4f20",
   "metadata": {},
   "outputs": [],
   "source": [
    "from langchain_community.embeddings import  OllamaEmbeddings\n",
    "embedding = OllamaEmbeddings(model=\"gemma:2b\")"
   ]
  },
  {
   "cell_type": "code",
   "execution_count": 13,
   "id": "73192c1e",
   "metadata": {},
   "outputs": [
    {
     "data": {
      "text/plain": [
       "<langchain_community.vectorstores.faiss.FAISS at 0x23d79a9bf40>"
      ]
     },
     "execution_count": 13,
     "metadata": {},
     "output_type": "execute_result"
    }
   ],
   "source": [
    "from langchain_community.vectorstores import FAISS\n",
    "db=FAISS.from_documents(final_docs,embedding)\n",
    "db"
   ]
  },
  {
   "cell_type": "code",
   "execution_count": 14,
   "id": "2d24d3fd",
   "metadata": {},
   "outputs": [
    {
     "data": {
      "text/plain": [
       "'safety to all nations and make the world itself at last free.'"
      ]
     },
     "execution_count": 14,
     "metadata": {},
     "output_type": "execute_result"
    }
   ],
   "source": [
    "query=\"How does the speaker describe the desired outcome of the war?\"\n",
    "docs=db.similarity_search(query)\n",
    "docs[0].page_content"
   ]
  },
  {
   "cell_type": "markdown",
   "id": "97313796",
   "metadata": {},
   "source": [
    "#### As a Retriever\n",
    "We can also convert the vectorstore into a Retriever class. This allows us to easily use it in other LangChain methods, which largely work with retrievers"
   ]
  },
  {
   "cell_type": "code",
   "execution_count": 16,
   "id": "68c8902e",
   "metadata": {},
   "outputs": [
    {
     "data": {
      "text/plain": [
       "'safety to all nations and make the world itself at last free.'"
      ]
     },
     "execution_count": 16,
     "metadata": {},
     "output_type": "execute_result"
    }
   ],
   "source": [
    "retrival=db.as_retriever()\n",
    "retrival.invoke(query)[0].page_content"
   ]
  },
  {
   "cell_type": "code",
   "execution_count": 18,
   "id": "c3e82e9e",
   "metadata": {},
   "outputs": [
    {
     "data": {
      "text/plain": [
       "[(Document(id='8f29ced4-ec6b-411b-b6db-2a6f2761c6af', metadata={'source': 'speech.txt'}, page_content='safety to all nations and make the world itself at last free.'),\n",
       "  np.float32(2734.0242)),\n",
       " (Document(id='0e200634-2c2a-4aae-9670-a6d0a26a3891', metadata={'source': 'speech.txt'}, page_content='in thus addressing you. There are, it may be, many months of fiery trial and sacrifice ahead of us.'),\n",
       "  np.float32(2901.067)),\n",
       " (Document(id='d272983e-2aa1-44f2-9052-f5dcc1e972be', metadata={'source': 'speech.txt'}, page_content='when those rights have been made as secure as the faith and the freedom of nations can make them.'),\n",
       "  np.float32(3076.7524)),\n",
       " (Document(id='37f45335-2e86-4095-b4dc-29ac47943c44', metadata={'source': 'speech.txt'}, page_content='will lift it only here and there and without countenance except from a lawless and malignant few.'),\n",
       "  np.float32(3104.8835))]"
      ]
     },
     "execution_count": 18,
     "metadata": {},
     "output_type": "execute_result"
    }
   ],
   "source": [
    "# Similarity search with score\n",
    "db.similarity_search_with_score(query)"
   ]
  },
  {
   "cell_type": "code",
   "execution_count": 19,
   "id": "b190edbe",
   "metadata": {},
   "outputs": [],
   "source": [
    "# Similarity search with vector\n",
    "vec=embedding.embed_query(query)"
   ]
  },
  {
   "cell_type": "code",
   "execution_count": 20,
   "id": "323d25ea",
   "metadata": {},
   "outputs": [
    {
     "data": {
      "text/plain": [
       "[Document(id='8f29ced4-ec6b-411b-b6db-2a6f2761c6af', metadata={'source': 'speech.txt'}, page_content='safety to all nations and make the world itself at last free.'),\n",
       " Document(id='0e200634-2c2a-4aae-9670-a6d0a26a3891', metadata={'source': 'speech.txt'}, page_content='in thus addressing you. There are, it may be, many months of fiery trial and sacrifice ahead of us.'),\n",
       " Document(id='d272983e-2aa1-44f2-9052-f5dcc1e972be', metadata={'source': 'speech.txt'}, page_content='when those rights have been made as secure as the faith and the freedom of nations can make them.'),\n",
       " Document(id='37f45335-2e86-4095-b4dc-29ac47943c44', metadata={'source': 'speech.txt'}, page_content='will lift it only here and there and without countenance except from a lawless and malignant few.')]"
      ]
     },
     "execution_count": 20,
     "metadata": {},
     "output_type": "execute_result"
    }
   ],
   "source": [
    "db.similarity_search_by_vector(vec)"
   ]
  },
  {
   "cell_type": "code",
   "execution_count": 21,
   "id": "9d71fe78",
   "metadata": {},
   "outputs": [],
   "source": [
    "db.save_local(\"faiss db\")"
   ]
  },
  {
   "cell_type": "code",
   "execution_count": 24,
   "id": "5fbe1693",
   "metadata": {},
   "outputs": [],
   "source": [
    "new_db=FAISS.load_local('faiss db',embedding,allow_dangerous_deserialization=True)"
   ]
  },
  {
   "cell_type": "code",
   "execution_count": 25,
   "id": "6d8012a7",
   "metadata": {},
   "outputs": [
    {
     "data": {
      "text/plain": [
       "[Document(id='8f29ced4-ec6b-411b-b6db-2a6f2761c6af', metadata={'source': 'speech.txt'}, page_content='safety to all nations and make the world itself at last free.'),\n",
       " Document(id='0e200634-2c2a-4aae-9670-a6d0a26a3891', metadata={'source': 'speech.txt'}, page_content='in thus addressing you. There are, it may be, many months of fiery trial and sacrifice ahead of us.'),\n",
       " Document(id='d272983e-2aa1-44f2-9052-f5dcc1e972be', metadata={'source': 'speech.txt'}, page_content='when those rights have been made as secure as the faith and the freedom of nations can make them.'),\n",
       " Document(id='37f45335-2e86-4095-b4dc-29ac47943c44', metadata={'source': 'speech.txt'}, page_content='will lift it only here and there and without countenance except from a lawless and malignant few.')]"
      ]
     },
     "execution_count": 25,
     "metadata": {},
     "output_type": "execute_result"
    }
   ],
   "source": [
    "new_db.similarity_search(query)"
   ]
  },
  {
   "cell_type": "code",
   "execution_count": null,
   "id": "ccdc3bde",
   "metadata": {},
   "outputs": [],
   "source": []
  }
 ],
 "metadata": {
  "kernelspec": {
   "display_name": "Python 3",
   "language": "python",
   "name": "python3"
  },
  "language_info": {
   "codemirror_mode": {
    "name": "ipython",
    "version": 3
   },
   "file_extension": ".py",
   "mimetype": "text/x-python",
   "name": "python",
   "nbconvert_exporter": "python",
   "pygments_lexer": "ipython3",
   "version": "3.10.0"
  }
 },
 "nbformat": 4,
 "nbformat_minor": 5
}
