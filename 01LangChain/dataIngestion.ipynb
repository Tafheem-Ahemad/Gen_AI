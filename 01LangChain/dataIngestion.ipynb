{
 "cells": [
  {
   "cell_type": "markdown",
   "id": "0f712306",
   "metadata": {},
   "source": [
    "#### Getting started With Langchain And Open AI\n",
    "\n",
    "In this quickstart we'll see how to:\n",
    "\n",
    "- Get setup with LangChain, LangSmith and LangServe\n",
    "- Use the most basic and common components of LangChain: prompt templates, models, and output parsers.\n",
    "- Build a simple application with LangChain\n",
    "- Trace your application with LangSmith\n",
    "- Serve your application with LangServe"
   ]
  },
  {
   "cell_type": "code",
   "execution_count": 1,
   "id": "776ffdb2",
   "metadata": {},
   "outputs": [],
   "source": [
    "import langchain_community.document_loaders as Doc_loders"
   ]
  },
  {
   "cell_type": "code",
   "execution_count": 2,
   "id": "1986eb2d",
   "metadata": {},
   "outputs": [
    {
     "name": "stdout",
     "output_type": "stream",
     "text": [
      "[Document(metadata={'source': 'text.txt'}, page_content='Lorem ipsum dolor sit amet consectetur adipisicing elit. Fugiat corporis cumque deleniti, saepe hic temporibus perferendis ipsum quibusdam voluptatibus eos beatae est odit optio sunt deserunt molestiae neque suscipit sed nostrum incidunt numquam consequatur eum! Nemo nisi laborum praesentium asperiores, placeat quibusdam sapiente non quam veniam voluptatibus velit recusandae minima magnam sequi vel delectus et molestias officia doloribus aperiam similique? Consequuntur, omnis dolorem perspiciatis aspernatur voluptate eos? Quos fuga perferendis ab ipsam officia dignissimos, ratione, odio laboriosam labore ut hic eius similique quasi aut cumque id. Cumque incidunt magni quibusdam inventore error necessitatibus aperiam vero laudantium? Officiis esse vero quod?\\n\\nLorem, ipsum dolor sit amet consectetur adipisicing elit. Iure cumque tempore aperiam ab, reiciendis incidunt. Error temporibus minus nisi consequatur nihil eum non animi aperiam nam eligendi totam quo quisquam optio eos earum, laborum quas enim neque. Praesentium, vel amet. Aliquid dicta ab error consequatur officia fugit nulla facere laborum tenetur repellendus non repellat qui labore consectetur, velit amet? Atque, itaque commodi aliquam temporibus quod voluptatum voluptate debitis architecto velit illo. Repudiandae harum fuga cum, ex minus hic tempore aspernatur ut exercitationem maxime, qui vel neque vero. Vitae cum adipisci possimus sunt iste libero, culpa omnis impedit. Mollitia, modi rem.\\n\\nLorem ipsum dolor sit, amet consectetur adipisicing elit. Voluptate eaque beatae architecto officiis esse aperiam repellat quo veniam consectetur quisquam id odio, quae molestiae. Consequuntur animi cumque ipsa tempore pariatur aspernatur libero reprehenderit ipsam tenetur reiciendis. Eius velit possimus id esse fugiat rerum suscipit dolores voluptas ipsa, quasi rem repudiandae!')]\n"
     ]
    }
   ],
   "source": [
    "text_loder=Doc_loders.TextLoader(\"text.txt\")\n",
    "docs=text_loder.load()\n",
    "print(docs)"
   ]
  },
  {
   "cell_type": "code",
   "execution_count": 3,
   "id": "6810fdb3",
   "metadata": {},
   "outputs": [
    {
     "data": {
      "text/plain": [
       "1"
      ]
     },
     "execution_count": 3,
     "metadata": {},
     "output_type": "execute_result"
    }
   ],
   "source": [
    "len(docs)"
   ]
  },
  {
   "cell_type": "code",
   "execution_count": 4,
   "id": "75700150",
   "metadata": {},
   "outputs": [
    {
     "name": "stdout",
     "output_type": "stream",
     "text": [
      "Extarct page_content -->\n",
      "<class 'str'>\n",
      "Lorem ipsum dolor sit amet consectetur adipisicing elit. Fugiat corporis cumque deleniti, saepe hic temporibus perferendis ipsum quibusdam voluptatibus eos beatae est odit optio sunt deserunt molestiae neque suscipit sed nostrum incidunt numquam consequatur eum! Nemo nisi laborum praesentium asperiores, placeat quibusdam sapiente non quam veniam voluptatibus velit recusandae minima magnam sequi vel delectus et molestias officia doloribus aperiam similique? Consequuntur, omnis dolorem perspiciatis aspernatur voluptate eos? Quos fuga perferendis ab ipsam officia dignissimos, ratione, odio laboriosam labore ut hic eius similique quasi aut cumque id. Cumque incidunt magni quibusdam inventore error necessitatibus aperiam vero laudantium? Officiis esse vero quod?\n",
      "\n",
      "Lorem, ipsum dolor sit amet consectetur adipisicing elit. Iure cumque tempore aperiam ab, reiciendis incidunt. Error temporibus minus nisi consequatur nihil eum non animi aperiam nam eligendi totam quo quisquam optio eos earum, laborum quas enim neque. Praesentium, vel amet. Aliquid dicta ab error consequatur officia fugit nulla facere laborum tenetur repellendus non repellat qui labore consectetur, velit amet? Atque, itaque commodi aliquam temporibus quod voluptatum voluptate debitis architecto velit illo. Repudiandae harum fuga cum, ex minus hic tempore aspernatur ut exercitationem maxime, qui vel neque vero. Vitae cum adipisci possimus sunt iste libero, culpa omnis impedit. Mollitia, modi rem.\n",
      "\n",
      "Lorem ipsum dolor sit, amet consectetur adipisicing elit. Voluptate eaque beatae architecto officiis esse aperiam repellat quo veniam consectetur quisquam id odio, quae molestiae. Consequuntur animi cumque ipsa tempore pariatur aspernatur libero reprehenderit ipsam tenetur reiciendis. Eius velit possimus id esse fugiat rerum suscipit dolores voluptas ipsa, quasi rem repudiandae!\n"
     ]
    }
   ],
   "source": [
    "for doc in docs:\n",
    "    print(\"Extarct page_content -->\")\n",
    "    print(type(doc.page_content))\n",
    "    print(doc.page_content)"
   ]
  },
  {
   "cell_type": "code",
   "execution_count": 5,
   "id": "b082d5f0",
   "metadata": {},
   "outputs": [
    {
     "name": "stdout",
     "output_type": "stream",
     "text": [
      "Extarct id -->\n",
      "<class 'NoneType'>\n",
      "None\n"
     ]
    }
   ],
   "source": [
    "for doc in docs:\n",
    "    print(\"Extarct id -->\")\n",
    "    print(type(doc.id))\n",
    "    print(doc.id)"
   ]
  },
  {
   "cell_type": "code",
   "execution_count": 6,
   "id": "d9f5ab18",
   "metadata": {},
   "outputs": [
    {
     "name": "stdout",
     "output_type": "stream",
     "text": [
      "Extarct meta_data -->\n",
      "<class 'dict'>\n",
      "{'source': 'text.txt'}\n"
     ]
    }
   ],
   "source": [
    "for doc in docs:\n",
    "    print(\"Extarct meta_data -->\")\n",
    "    print(type(doc.metadata))\n",
    "    print(doc.metadata)"
   ]
  },
  {
   "cell_type": "markdown",
   "id": "23d37ea3",
   "metadata": {},
   "source": [
    "### PDFLoader"
   ]
  },
  {
   "cell_type": "code",
   "execution_count": 7,
   "id": "c53a8e48",
   "metadata": {},
   "outputs": [],
   "source": [
    "pdfLoader=Doc_loders.PyPDFLoader(\"sample.pdf\")"
   ]
  },
  {
   "cell_type": "code",
   "execution_count": 8,
   "id": "b3067b57",
   "metadata": {},
   "outputs": [],
   "source": [
    "docs=pdfLoader.load()"
   ]
  },
  {
   "cell_type": "code",
   "execution_count": 30,
   "id": "1204d19a",
   "metadata": {},
   "outputs": [
    {
     "name": "stdout",
     "output_type": "stream",
     "text": [
      "1 of Page 1 \n",
      " \n",
      "Assignment Problem \n",
      "ME 3302: IC Engines and Gas Turbines \n",
      "Section: S2 \n",
      "Due Date: 21/4\n"
     ]
    }
   ],
   "source": [
    "print(docs[0].page_content[:100])"
   ]
  },
  {
   "cell_type": "code",
   "execution_count": 31,
   "id": "6d4407b6",
   "metadata": {},
   "outputs": [
    {
     "name": "stdout",
     "output_type": "stream",
     "text": [
      "{'producer': 'Microsoft® Word 2010', 'creator': 'Microsoft® Word 2010', 'creationdate': '2025-04-17T09:07:52+05:30', 'author': 'NITR', 'moddate': '2025-04-17T09:07:52+05:30', 'source': 'sample.pdf', 'total_pages': 1, 'page': 0, 'page_label': '1'}\n"
     ]
    }
   ],
   "source": [
    "print(docs[0].metadata)"
   ]
  },
  {
   "cell_type": "markdown",
   "id": "628d6821",
   "metadata": {},
   "source": [
    "### wikipedia Loader"
   ]
  },
  {
   "cell_type": "code",
   "execution_count": 10,
   "id": "53be0f08",
   "metadata": {},
   "outputs": [],
   "source": [
    "wikipediaLoader=Doc_loders.WikipediaLoader(query=\"Albert Eistain\",load_max_docs=2)"
   ]
  },
  {
   "cell_type": "code",
   "execution_count": 11,
   "id": "90366759",
   "metadata": {},
   "outputs": [
    {
     "data": {
      "text/plain": [
       "[Document(metadata={'producer': 'Microsoft® Word 2010', 'creator': 'Microsoft® Word 2010', 'creationdate': '2025-04-17T09:07:52+05:30', 'author': 'NITR', 'moddate': '2025-04-17T09:07:52+05:30', 'source': 'sample.pdf', 'total_pages': 1, 'page': 0, 'page_label': '1'}, page_content='1 of Page 1 \\n \\nAssignment Problem \\nME 3302: IC Engines and Gas Turbines \\nSection: S2 \\nDue Date: 21/4/2025          No. of page: 01 \\nCourse Instructor: Prof. Saroj Ray \\n \\n1. A 4 -cylinder, 4 -stroke petrol engine is tested using the Morse test at full throttle and a \\nconstant speed of 2000 rpm. During the test, the brake power with all cylinders firing is \\nmeasured to be 60 kW. When each cylinder is cut off one at a time, the corr esponding brake \\npower readings are recorded as follows: 45.5 kW with cylinder 1 cut off, 46.0 kW with \\ncylinder 2 cut off, 45.0 kW with cylinder 3 cut off, and 46.5 kW with cylinder 4 cut off. The \\nengine consumes fuel at a rate of 15 kg per hour, and the ca lorific value of the fuel is 44,000 \\nkJ/kg. Calculate (a) the Indicated Power (IP) of each cylinder using Morse test data, (b) the \\ntotal indicated power, (c) the friction power, (d) the mechanical efficiency, and (e) the brake \\nspecific fuel consumption.  \\n2. Determine the air -fuel ratio of a four -stroke, single -cylinder, air -cooled engine with fuel \\nconsumption time for 10 cc is 20.4 s and air consumption time for 0.1 m 3 is 16.3 s. The load \\nis 17 kg at the speed of 3000 rpm. Find also brake specific fuel con sumption in g/kW.h and \\nbrake thermal efficiency. Assume the density of air as 1.175 kg/m 3 and specific gravity of \\nfuel to be 0.7. The lower heating value of fuel is 43 MJ/kg and the dynamometer constant is \\n5000. \\n3. A gas-turbine power plant operates on the si mple Brayton cycle between the pressure limits \\nof 100 and 1600 kPa. The working fluid is air, which enters the compressor at 40°C at a rate \\nof 850 m3/min and leaves the turbine at 650°C. Assuming a compressor isentropic efficiency \\nof 85 percent and a turbi ne isentropic efficiency of 88 percent. Determine (a) the compressor \\nwork, (b) the turbine work, (c) the net power output, and (d) the thermal efficiency. Use \\nconstant specific heats with Cv = 0.821 kJ/kg·K, and Cp = 1.108 kJ/kg·K. \\n4. A gas turbine unit wo rks on an air -standard Brayton cycle. The pressure ratio across the \\ncompression is 6. Air enters the compressor at 1 bar and 27 oC. The maximum temperature of \\nthe cycle is 850 oC. Both the compressor and turbine isentropic efficiency of 85 percent. \\nCalculate (a) the compressor work, (b) the turbine work, (c) the specific output of the cycle, \\nand (d) the power developed by the unit for a mass flow rate of 10 kg/s. Would you \\nrecommend this cycle for a reciprocating engine? For air γ = 1.4 and C p = 1.005 kJ/kg K . \\nAlso draw the T-S and P-V diagram.')]"
      ]
     },
     "execution_count": 11,
     "metadata": {},
     "output_type": "execute_result"
    }
   ],
   "source": [
    "docs=pdfLoader.load()\n",
    "docs"
   ]
  },
  {
   "cell_type": "code",
   "execution_count": 12,
   "id": "d47cb778",
   "metadata": {},
   "outputs": [
    {
     "name": "stdout",
     "output_type": "stream",
     "text": [
      "{'producer': 'Microsoft® Word 2010', 'creator': 'Microsoft® Word 2010', 'creationdate': '2025-04-17T09:07:52+05:30', 'author': 'NITR', 'moddate': '2025-04-17T09:07:52+05:30', 'source': 'sample.pdf', 'total_pages': 1, 'page': 0, 'page_label': '1'}\n",
      "None\n"
     ]
    }
   ],
   "source": [
    "for doc in docs:\n",
    "\tprint(doc.metadata)\n",
    "\tprint(doc.id)"
   ]
  },
  {
   "cell_type": "markdown",
   "id": "ea8d4996",
   "metadata": {},
   "source": [
    "### Web based Loader"
   ]
  },
  {
   "cell_type": "code",
   "execution_count": 18,
   "id": "73db3d58",
   "metadata": {},
   "outputs": [],
   "source": [
    "import bs4\n",
    "webLoader=Doc_loders.WebBaseLoader(\n",
    "\tweb_paths=(\"https://en.wikipedia.org/wiki/Giant_panda\",),\n",
    "\tbs_kwargs=dict(parse_only=bs4.SoupStrainer(class_=(\"mw-footer-container\")))\n",
    ")"
   ]
  },
  {
   "cell_type": "code",
   "execution_count": 19,
   "id": "6531b556",
   "metadata": {},
   "outputs": [
    {
     "data": {
      "text/plain": [
       "[Document(metadata={'source': 'https://en.wikipedia.org/wiki/Giant_panda'}, page_content='\\n\\n\\n This page was last edited on 14 May 2025, at 19:45\\xa0(UTC).\\nText is available under the Creative Commons Attribution-ShareAlike 4.0 License;\\nadditional terms may apply. By using this site, you agree to the Terms of Use and Privacy Policy. Wikipedia® is a registered trademark of the Wikimedia Foundation, Inc., a non-profit organization.\\n\\n\\nPrivacy policy\\nAbout Wikipedia\\nDisclaimers\\nContact Wikipedia\\nCode of Conduct\\nDevelopers\\nStatistics\\nCookie statement\\nMobile view\\n\\n\\n\\n\\n\\n\\n')]"
      ]
     },
     "execution_count": 19,
     "metadata": {},
     "output_type": "execute_result"
    }
   ],
   "source": [
    "webLoader.load()"
   ]
  },
  {
   "cell_type": "markdown",
   "id": "a503884f",
   "metadata": {},
   "source": [
    "### Arxiv Loader"
   ]
  },
  {
   "cell_type": "code",
   "execution_count": 27,
   "metadata": {},
   "outputs": [],
   "source": [
    "arxivLoader=Doc_loders.ArxivLoader(query=\"2505.06611\",load_max_docs=2)"
   ]
  },
  {
   "cell_type": "code",
   "execution_count": 32,
   "id": "b4fcb924",
   "metadata": {},
   "outputs": [
    {
     "name": "stdout",
     "output_type": "stream",
     "text": [
      "Internal noise in convolutional neural networks\n",
      "Impact of internal noise on convolutional neural net\n",
      "{'Published': '2025-05-10', 'Title': 'Impact of internal noise on convolutional neural networks', 'Authors': 'Ivan Kolesnikov, Nadezhda Semenova', 'Summary': \"In this paper, we investigate the impact of noise on a simplified trained\\nconvolutional network. The types of noise studied originate from a real optical\\nimplementation of a neural network, but we generalize these types to enhance\\nthe applicability of our findings on a broader scale. The noise types\\nconsidered include additive and multiplicative noise, which relate to how noise\\naffects individual neurons, as well as correlated and uncorrelated noise, which\\npertains to the influence of noise across one layers. We demonstrate that the\\npropagation of uncorrelated noise primarily depends on the statistical\\nproperties of the connection matrices. Specifically, the mean value of the\\nconnection matrix following the layer impacted by noise governs the propagation\\nof correlated additive noise, while the mean of its square contributes to the\\naccumulation of uncorrelated noise. Additionally, we propose an analytical\\nassessment of the noise level in the network's output signal, which shows a\\nstrong correlation with the results of numerical simulations.\"}\n"
     ]
    }
   ],
   "source": [
    "docs = arxivLoader.load()\n",
    "print(docs[0].page_content[:100])\n",
    "print(docs[0].metadata)"
   ]
  },
  {
   "cell_type": "code",
   "execution_count": null,
   "id": "1fb1bb40",
   "metadata": {},
   "outputs": [],
   "source": []
  },
  {
   "cell_type": "code",
   "execution_count": null,
   "id": "7769ca25",
   "metadata": {},
   "outputs": [],
   "source": []
  },
  {
   "cell_type": "code",
   "execution_count": null,
   "id": "e7ec6255",
   "metadata": {},
   "outputs": [],
   "source": []
  }
 ],
 "metadata": {
  "kernelspec": {
   "display_name": "Python 3",
   "language": "python",
   "name": "python3"
  },
  "language_info": {
   "codemirror_mode": {
    "name": "ipython",
    "version": 3
   },
   "file_extension": ".py",
   "mimetype": "text/x-python",
   "name": "python",
   "nbconvert_exporter": "python",
   "pygments_lexer": "ipython3",
   "version": "3.10.0"
  }
 },
 "nbformat": 4,
 "nbformat_minor": 5
}
